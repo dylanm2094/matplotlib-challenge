{
 "cells": [
  {
   "cell_type": "markdown",
   "metadata": {},
   "source": [
    "## Observations and Insights"
   ]
  },
  {
   "cell_type": "markdown",
   "metadata": {},
   "source": []
  },
  {
   "cell_type": "markdown",
   "metadata": {},
   "source": [
    "## Dependencies and starter code"
   ]
  },
  {
   "cell_type": "code",
   "execution_count": 1,
   "metadata": {},
   "outputs": [],
   "source": [
    "# Dependencies and Setup\n",
    "import matplotlib.pyplot as plt\n",
    "import pandas as pd\n",
    "import scipy.stats as st\n",
    "\n",
    "# Study data files\n",
    "mouse_metadata = \"mouse_data.csv\"\n",
    "study_results = \"results_data.csv\"\n",
    "\n",
    "# Read the mouse data and the study results\n",
    "mouse_metadata = pd.read_csv(mouse_metadata)\n",
    "study_results = pd.read_csv(study_results)\n",
    "\n",
    "# Combine the data into a single dataset\n",
    "df = pd.merge(mouse_metadata, study_results, on=\"Mouse ID\", how=\"outer\")\n",
    "df = df.rename(columns={\"Tumor Volume (mm3)\": \"Tumor_Volume\"})\n",
    "#df.head()"
   ]
  },
  {
   "cell_type": "markdown",
   "metadata": {},
   "source": [
    "## Summary statistics"
   ]
  },
  {
   "cell_type": "code",
   "execution_count": 2,
   "metadata": {},
   "outputs": [
    {
     "data": {
      "text/html": [
       "<div>\n",
       "<style scoped>\n",
       "    .dataframe tbody tr th:only-of-type {\n",
       "        vertical-align: middle;\n",
       "    }\n",
       "\n",
       "    .dataframe tbody tr th {\n",
       "        vertical-align: top;\n",
       "    }\n",
       "\n",
       "    .dataframe thead th {\n",
       "        text-align: right;\n",
       "    }\n",
       "</style>\n",
       "<table border=\"1\" class=\"dataframe\">\n",
       "  <thead>\n",
       "    <tr style=\"text-align: right;\">\n",
       "      <th></th>\n",
       "      <th>Average Tumor Volume (mm3)</th>\n",
       "      <th>Median Tumor Volume (mm3)</th>\n",
       "      <th>Variance of Tumor Volume (mm3)</th>\n",
       "      <th>Standard Deviation Tumor Volume (mm3)</th>\n",
       "      <th>SEM Tumor Volume (mm3)</th>\n",
       "    </tr>\n",
       "    <tr>\n",
       "      <th>Drug Regimen</th>\n",
       "      <th></th>\n",
       "      <th></th>\n",
       "      <th></th>\n",
       "      <th></th>\n",
       "      <th></th>\n",
       "    </tr>\n",
       "  </thead>\n",
       "  <tbody>\n",
       "    <tr>\n",
       "      <td>Capomulin</td>\n",
       "      <td>40.675741</td>\n",
       "      <td>41.557809</td>\n",
       "      <td>24.947764</td>\n",
       "      <td>4.994774</td>\n",
       "      <td>0.329346</td>\n",
       "    </tr>\n",
       "    <tr>\n",
       "      <td>Ceftamin</td>\n",
       "      <td>52.591172</td>\n",
       "      <td>51.776157</td>\n",
       "      <td>39.290177</td>\n",
       "      <td>6.268188</td>\n",
       "      <td>0.469821</td>\n",
       "    </tr>\n",
       "    <tr>\n",
       "      <td>Infubinol</td>\n",
       "      <td>52.884795</td>\n",
       "      <td>51.820584</td>\n",
       "      <td>43.128684</td>\n",
       "      <td>6.567243</td>\n",
       "      <td>0.492236</td>\n",
       "    </tr>\n",
       "    <tr>\n",
       "      <td>Ketapril</td>\n",
       "      <td>55.235638</td>\n",
       "      <td>53.698743</td>\n",
       "      <td>68.553577</td>\n",
       "      <td>8.279709</td>\n",
       "      <td>0.603860</td>\n",
       "    </tr>\n",
       "    <tr>\n",
       "      <td>Naftisol</td>\n",
       "      <td>54.331565</td>\n",
       "      <td>52.509285</td>\n",
       "      <td>66.173479</td>\n",
       "      <td>8.134708</td>\n",
       "      <td>0.596466</td>\n",
       "    </tr>\n",
       "    <tr>\n",
       "      <td>Placebo</td>\n",
       "      <td>54.033581</td>\n",
       "      <td>52.288934</td>\n",
       "      <td>61.168083</td>\n",
       "      <td>7.821003</td>\n",
       "      <td>0.581331</td>\n",
       "    </tr>\n",
       "    <tr>\n",
       "      <td>Propriva</td>\n",
       "      <td>52.322552</td>\n",
       "      <td>50.854632</td>\n",
       "      <td>42.351070</td>\n",
       "      <td>6.507770</td>\n",
       "      <td>0.512884</td>\n",
       "    </tr>\n",
       "    <tr>\n",
       "      <td>Ramicane</td>\n",
       "      <td>40.216745</td>\n",
       "      <td>40.673236</td>\n",
       "      <td>23.486704</td>\n",
       "      <td>4.846308</td>\n",
       "      <td>0.320955</td>\n",
       "    </tr>\n",
       "    <tr>\n",
       "      <td>Stelasyn</td>\n",
       "      <td>54.233149</td>\n",
       "      <td>52.431737</td>\n",
       "      <td>59.450562</td>\n",
       "      <td>7.710419</td>\n",
       "      <td>0.573111</td>\n",
       "    </tr>\n",
       "    <tr>\n",
       "      <td>Zoniferol</td>\n",
       "      <td>53.236507</td>\n",
       "      <td>51.818479</td>\n",
       "      <td>48.533355</td>\n",
       "      <td>6.966589</td>\n",
       "      <td>0.516398</td>\n",
       "    </tr>\n",
       "  </tbody>\n",
       "</table>\n",
       "</div>"
      ],
      "text/plain": [
       "              Average Tumor Volume (mm3)  Median Tumor Volume (mm3)  \\\n",
       "Drug Regimen                                                          \n",
       "Capomulin                      40.675741                  41.557809   \n",
       "Ceftamin                       52.591172                  51.776157   \n",
       "Infubinol                      52.884795                  51.820584   \n",
       "Ketapril                       55.235638                  53.698743   \n",
       "Naftisol                       54.331565                  52.509285   \n",
       "Placebo                        54.033581                  52.288934   \n",
       "Propriva                       52.322552                  50.854632   \n",
       "Ramicane                       40.216745                  40.673236   \n",
       "Stelasyn                       54.233149                  52.431737   \n",
       "Zoniferol                      53.236507                  51.818479   \n",
       "\n",
       "              Variance of Tumor Volume (mm3)  \\\n",
       "Drug Regimen                                   \n",
       "Capomulin                          24.947764   \n",
       "Ceftamin                           39.290177   \n",
       "Infubinol                          43.128684   \n",
       "Ketapril                           68.553577   \n",
       "Naftisol                           66.173479   \n",
       "Placebo                            61.168083   \n",
       "Propriva                           42.351070   \n",
       "Ramicane                           23.486704   \n",
       "Stelasyn                           59.450562   \n",
       "Zoniferol                          48.533355   \n",
       "\n",
       "              Standard Deviation Tumor Volume (mm3)  SEM Tumor Volume (mm3)  \n",
       "Drug Regimen                                                                 \n",
       "Capomulin                                  4.994774                0.329346  \n",
       "Ceftamin                                   6.268188                0.469821  \n",
       "Infubinol                                  6.567243                0.492236  \n",
       "Ketapril                                   8.279709                0.603860  \n",
       "Naftisol                                   8.134708                0.596466  \n",
       "Placebo                                    7.821003                0.581331  \n",
       "Propriva                                   6.507770                0.512884  \n",
       "Ramicane                                   4.846308                0.320955  \n",
       "Stelasyn                                   7.710419                0.573111  \n",
       "Zoniferol                                  6.966589                0.516398  "
      ]
     },
     "execution_count": 2,
     "metadata": {},
     "output_type": "execute_result"
    }
   ],
   "source": [
    "# Generate a summary statistics table of mean, median, variance, standard deviation, and SEM of the tumor volume for each regimen\n",
    "df = df.rename(columns={\"Tumor Volume (mm3)\": \"Tumor_Volume\"})\n",
    "grouped_regimen = df.groupby(['Drug Regimen'])\n",
    "avg_tumor = grouped_regimen['Tumor_Volume'].mean()\n",
    "med_tumor = grouped_regimen['Tumor_Volume'].median()\n",
    "var_tumor = grouped_regimen['Tumor_Volume'].var()\n",
    "std_tumor = grouped_regimen['Tumor_Volume'].std()\n",
    "sem_tumor = grouped_regimen['Tumor_Volume'].sem()\n",
    "\n",
    "summ_df = pd.DataFrame({ \n",
    "    \"Average Tumor Volume (mm3)\": avg_tumor,\n",
    "    \"Median Tumor Volume (mm3)\": med_tumor,\n",
    "    \"Variance of Tumor Volume (mm3)\": var_tumor,\n",
    "    \"Standard Deviation Tumor Volume (mm3)\": std_tumor,\n",
    "    \"SEM Tumor Volume (mm3)\": sem_tumor\n",
    "})\n",
    "\n",
    "summ_df\n",
    "\n"
   ]
  },
  {
   "cell_type": "markdown",
   "metadata": {},
   "source": [
    "## Bar plots"
   ]
  },
  {
   "cell_type": "code",
   "execution_count": 3,
   "metadata": {},
   "outputs": [
    {
     "data": {
      "image/png": "[encoded data removed]",
      "text/plain": [
       "<Figure size 432x288 with 1 Axes>"
      ]
     },
     "metadata": {
      "needs_background": "light"
     },
     "output_type": "display_data"
    }
   ],
   "source": [
    "# Generate a bar plot showing number of data points for each treatment regimen using pandas\n",
    "regimen_count_data = df[\"Drug Regimen\"].value_counts()\n",
    "regimen_count_data = regimen_count_data.sort_values(ascending=True)\n",
    "regimen_count_data = regimen_count_data.astype(int) \n",
    "regimen_count_data.plot(kind=\"barh\")\n",
    "plt.title(\"Number of Data Points for Each Treatment Regimen\")\n",
    "plt.xlabel(\"Number of Data Points\")\n",
    "plt.ylabel(\"Regimen\")\n",
    "plt.xlim()\n",
    "plt.show()"
   ]
  },
  {
   "cell_type": "code",
   "execution_count": 4,
   "metadata": {},
   "outputs": [],
   "source": [
    "# Generate a bar plot showing number of data points for each treatment regimen using pyplot\n"
   ]
  },
  {
   "cell_type": "markdown",
   "metadata": {},
   "source": [
    "## Pie plots"
   ]
  },
  {
   "cell_type": "code",
   "execution_count": 5,
   "metadata": {},
   "outputs": [
    {
     "data": {
      "image/png": "[encoded data removed]",
      "text/plain": [
       "<Figure size 432x288 with 1 Axes>"
      ]
     },
     "metadata": {},
     "output_type": "display_data"
    }
   ],
   "source": [
    "# Generate a pie plot showing the distribution of female versus male mice using pandas\n",
    "gender_count = df['Sex'].value_counts()\n",
    "explode = (0, 0.05)\n",
    "gender_count.plot(kind='pie', explode=explode, autopct=\"%1.1f%%\", shadow=True, startangle=90)\n",
    "plt.title('Gender Distribution of Mice')\n",
    "plt.ylabel(\"\")\n",
    "plt.show()"
   ]
  },
  {
   "cell_type": "code",
   "execution_count": 6,
   "metadata": {},
   "outputs": [],
   "source": [
    "# Generate a pie plot showing the distribution of female versus male mice using pyplot"
   ]
  },
  {
   "cell_type": "markdown",
   "metadata": {},
   "source": [
    "## Quartiles, outliers and boxplots"
   ]
  },
  {
   "cell_type": "code",
   "execution_count": 7,
   "metadata": {},
   "outputs": [
    {
     "name": "stdout",
     "output_type": "stream",
     "text": [
      "Values below 19.690480101250003 could be outliers for Ramicane.\n",
      "The min volume for Ramicane is: 22.05012627\n",
      "Values above 49.79900043124999 could be outliers for Ramicane.\n",
      "The max volume for Ramicane is: 45.22086888\n",
      "Values below 20.70456164999999 could be outliers for Capomulin.\n",
      "The min volume for Capomulin is: 23.34359787\n",
      "Values above 51.83201549 could be outliers for Capomulin.\n",
      "The max volume for Capomulin is: 47.68596303\n",
      "Values below 55.35777559500001 could be outliers for Infubinol.\n",
      "The min volume for Infubinol is: 60.91876652\n",
      "Values above 75.08224443499999 could be outliers for Infubinol.\n",
      "The max volume for Infubinol is: 72.2267309\n",
      "Values below 52.29350701999999 could be outliers for Ceftamin.\n",
      "The min volume for Ceftamin is: 59.74190064\n",
      "Values above 76.66786758 could be outliers for Ceftamin.\n",
      "The max volume for Ceftamin is: 68.92318457\n"
     ]
    }
   ],
   "source": [
    "# Calculate the final tumor volume of each mouse across four of the most promising treatment regimens. Calculate the IQR and quantitatively determine if there are any potential outliers.\n",
    "# Ramicane, Capomulin, Infubinol, Ceftamin\n",
    "# outlier_cond = (final_df['Tumor_Volume'] < lower_bound) | (final_df['Tumor_Volume'] > upper_bound)\n",
    "# outlier_occupancy = final_df.loc[outlier_cond]\n",
    "cond_time = (df['Timepoint'] == 45)\n",
    "\n",
    "df_ram = df[(df['Drug Regimen'] == 'Ramicane') & cond_time]\n",
    "q_ram = df_ram['Tumor_Volume'].quantile([.25,.5,.75])\n",
    "lq_ram = q_ram[0.25]\n",
    "uq_ram = q_ram[0.75]\n",
    "iqr_ram = uq_ram-lq_ram\n",
    "max_vol_ram = df_ram['Tumor_Volume'].max()\n",
    "min_vol_ram = df_ram['Tumor_Volume'].min()\n",
    "lb_ram = lq_ram - (1.5*iqr_ram)\n",
    "ub_ram = uq_ram + (1.5*iqr_ram)\n",
    "oc_ram = (df_ram['Tumor_Volume'] < lb_ram) | (df_ram['Tumor_Volume'] > ub_ram)\n",
    "\n",
    "print(f\"Values below {lb_ram} could be outliers for Ramicane.\")\n",
    "print(f\"The min volume for Ramicane is: {min_vol_ram}\")\n",
    "print(f\"Values above {ub_ram} could be outliers for Ramicane.\")\n",
    "print(f\"The max volume for Ramicane is: {max_vol_ram}\")\n",
    "\n",
    "\n",
    "\n",
    "df_Cap = df[(df['Drug Regimen'] == 'Capomulin') & cond_time]\n",
    "q_Cap = df_Cap['Tumor_Volume'].quantile([.25,.5,.75])\n",
    "lq_Cap = q_Cap[0.25]\n",
    "uq_Cap = q_Cap[0.75]\n",
    "iqr_Cap = uq_Cap-lq_Cap\n",
    "max_vol_Cap = df_Cap['Tumor_Volume'].max()\n",
    "min_vol_Cap = df_Cap['Tumor_Volume'].min()\n",
    "lb_Cap = lq_Cap - (1.5*iqr_Cap)\n",
    "ub_Cap = uq_Cap + (1.5*iqr_Cap)\n",
    "\n",
    "print(f\"Values below {lb_Cap} could be outliers for Capomulin.\")\n",
    "print(f\"The min volume for Capomulin is: {min_vol_Cap}\")\n",
    "print(f\"Values above {ub_Cap} could be outliers for Capomulin.\")\n",
    "print(f\"The max volume for Capomulin is: {max_vol_Cap}\")\n",
    "\n",
    "df_Inf = df[(df['Drug Regimen'] == 'Infubinol') & cond_time]\n",
    "q_Inf = df_Inf['Tumor_Volume'].quantile([.25,.5,.75])\n",
    "lq_Inf = q_Inf[0.25]\n",
    "uq_Inf = q_Inf[0.75]\n",
    "iqr_Inf = uq_Inf-lq_Inf\n",
    "max_vol_Inf = df_Inf['Tumor_Volume'].max()\n",
    "min_vol_Inf = df_Inf['Tumor_Volume'].min()\n",
    "lb_Inf = lq_Inf - (1.5*iqr_Inf)\n",
    "ub_Inf = uq_Inf + (1.5*iqr_Inf)\n",
    "\n",
    "print(f\"Values below {lb_Inf} could be outliers for Infubinol.\")\n",
    "print(f\"The min volume for Infubinol is: {min_vol_Inf}\")\n",
    "print(f\"Values above {ub_Inf} could be outliers for Infubinol.\")\n",
    "print(f\"The max volume for Infubinol is: {max_vol_Inf}\")\n",
    "\n",
    "df_Cef = df[(df['Drug Regimen'] == 'Ceftamin') & cond_time]\n",
    "q_Cef = df_Cef['Tumor_Volume'].quantile([.25,.5,.75])\n",
    "lq_Cef = q_Cef[0.25]\n",
    "uq_Cef = q_Cef[0.75]\n",
    "iqr_Cef = uq_Cef-lq_Cef\n",
    "max_vol_Cef = df_Cef['Tumor_Volume'].max()\n",
    "min_vol_Cef = df_Cef['Tumor_Volume'].min()\n",
    "lb_Cef = lq_Cef - (1.5*iqr_Cef)\n",
    "ub_Cef = uq_Cef + (1.5*iqr_Cef)\n",
    "\n",
    "print(f\"Values below {lb_Cef} could be outliers for Ceftamin.\")\n",
    "print(f\"The min volume for Ceftamin is: {min_vol_Cef}\")\n",
    "print(f\"Values above {ub_Cef} could be outliers for Ceftamin.\")\n",
    "print(f\"The max volume for Ceftamin is: {max_vol_Cef}\")"
   ]
  },
  {
   "cell_type": "code",
   "execution_count": 8,
   "metadata": {},
   "outputs": [
    {
     "data": {
      "image/png": "[encoded data removed]",
      "text/plain": [
       "<Figure size 432x288 with 1 Axes>"
      ]
     },
     "metadata": {
      "needs_background": "light"
     },
     "output_type": "display_data"
    }
   ],
   "source": [
    "# Generate a box plot of the final tumor volume of each mouse across four regimens of interest\n",
    "data = [df_ram['Tumor_Volume'],df_Cap['Tumor_Volume'],df_Inf['Tumor_Volume'],df_Cef['Tumor_Volume']]\n",
    "fig, ax = plt.subplots()\n",
    "ax.set_title('Final Tumor Volume for Different Drug Regimens')\n",
    "ax.boxplot(data, labels=('Ramicane', 'Capomulin', 'Infubinol', 'Ceftamin'))\n",
    "plt.ylabel('Final Tumor Volume (mm3)')\n",
    "plt.show()"
   ]
  },
  {
   "cell_type": "markdown",
   "metadata": {},
   "source": [
    "## Line and scatter plots"
   ]
  },
  {
   "cell_type": "code",
   "execution_count": 9,
   "metadata": {},
   "outputs": [
    {
     "data": {
      "image/png": "[encoded data removed]",
      "text/plain": [
       "<Figure size 432x288 with 1 Axes>"
      ]
     },
     "metadata": {
      "needs_background": "light"
     },
     "output_type": "display_data"
    }
   ],
   "source": [
    "# Generate a line plot of time point versus tumor volume for a mouse treated with Capomulin\n",
    "cond = (df['Drug Regimen'] == 'Capomulin')\n",
    "df_Capomulin = df[cond]\n",
    "time_grp_cap = df_Capomulin.groupby(['Timepoint'])\n",
    "avg_tumor = time_grp_cap['Tumor_Volume'].mean()\n",
    "tumor_time_df = pd.DataFrame({ \n",
    "    \"Average Tumor Volume (mm3)\": avg_tumor\n",
    "})\n",
    "tumor_time_df.plot(kind='line', legend=False)\n",
    "plt.title(\"Average Tumor Size vs Time for Capomulin\")\n",
    "plt.ylabel('Average Tumor Volume (mm3)')\n",
    "plt.show()"
   ]
  },
  {
   "cell_type": "code",
   "execution_count": 10,
   "metadata": {},
   "outputs": [
    {
     "data": {
      "image/png": "[encoded data removed]",
      "text/plain": [
       "<Figure size 432x288 with 1 Axes>"
      ]
     },
     "metadata": {
      "needs_background": "light"
     },
     "output_type": "display_data"
    }
   ],
   "source": [
    "# Generate a scatter plot of mouse weight versus average tumor volume for the Capomulin regimen\n",
    "mouse_grp_cap = df_Capomulin.groupby(['Mouse ID'])\n",
    "avg_tumor = mouse_grp_cap['Tumor_Volume'].mean()\n",
    "mouse_weight = mouse_grp_cap['Weight (g)'].mean()\n",
    "tumor_weight_df = pd.DataFrame({ \n",
    "    \"Tumor_Volume\": avg_tumor,\n",
    "    \"Weight (g)\": mouse_weight\n",
    "})\n",
    "plt.scatter(tumor_weight_df['Weight (g)'], tumor_weight_df['Tumor_Volume'])\n",
    "plt.title('Mouse Weight vs Avg Tumor Volume')\n",
    "plt.xlim(14,26)\n",
    "plt.xlabel(\"Weight (g)\")\n",
    "plt.ylabel(\"Average Tumor Volume (mm3)\")\n",
    "plt.show()"
   ]
  },
  {
   "cell_type": "code",
   "execution_count": 11,
   "metadata": {},
   "outputs": [
    {
     "name": "stdout",
     "output_type": "stream",
     "text": [
      "rvalue    = 0.842\n",
      "r-squared = 0.709\n"
     ]
    },
    {
     "data": {
      "image/png": "[encoded data removed]",
      "text/plain": [
       "<Figure size 432x288 with 1 Axes>"
      ]
     },
     "metadata": {
      "needs_background": "light"
     },
     "output_type": "display_data"
    }
   ],
   "source": [
    "# Calculate the correlation coefficient and linear regression model for mouse weight and average tumor volume for the Capomulin regimen\n",
    "x_values = tumor_weight_df['Weight (g)']\n",
    "y_values = tumor_weight_df['Tumor_Volume']\n",
    "\n",
    "(slope, intercept, rvalue, pvalue, stderr) = st.linregress(x_values, y_values)\n",
    "\n",
    "regress_values = x_values * slope + intercept\n",
    "line_eq = \"y = \" + str(round(slope,1)) + \"x + \" + str(round(intercept,1))\n",
    "\n",
    "plt.scatter(x_values,y_values)\n",
    "plt.plot(x_values,regress_values,\"r-\")\n",
    "plt.annotate(line_eq,(15, 45),fontsize=15,color=\"red\")\n",
    "plt.title('Mouse Weight vs Avg Tumor Volume')\n",
    "plt.xlim(14,26)\n",
    "plt.xlabel(\"Weight (g)\")\n",
    "plt.ylabel(\"Average Tumor Volume (mm3)\")\n",
    "\n",
    "print(f\"rvalue    = {round(rvalue, 3)}\")\n",
    "print(f\"r-squared = {round(rvalue**2, 3)}\")\n",
    "\n",
    "plt.show()"
   ]
  },
  {
   "cell_type": "code",
   "execution_count": null,
   "metadata": {},
   "outputs": [],
   "source": []
  }
 ],
 "metadata": {
  "anaconda-cloud": {},
  "kernelspec": {
   "display_name": "Python 3",
   "language": "python",
   "name": "python3"
  },
  "language_info": {
   "codemirror_mode": {
    "name": "ipython",
    "version": 3
   },
   "file_extension": ".py",
   "mimetype": "text/x-python",
   "name": "python",
   "nbconvert_exporter": "python",
   "pygments_lexer": "ipython3",
   "version": "3.7.4"
  }
 },
 "nbformat": 4,
 "nbformat_minor": 2
}
